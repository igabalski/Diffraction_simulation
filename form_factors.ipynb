{
 "cells": [
  {
   "cell_type": "code",
   "execution_count": null,
   "metadata": {},
   "outputs": [],
   "source": [
    "import numpy as np\n",
    "import matplotlib.pyplot as plt\n",
    "import matplotlib.colors as colors\n",
    "from numpy.linalg import norm\n",
    "from time import time\n",
    "import h5py"
   ]
  },
  {
   "cell_type": "markdown",
   "metadata": {},
   "source": [
    "## Load in form factor coefficients and define atomic form factor generating functions"
   ]
  },
  {
   "cell_type": "code",
   "execution_count": null,
   "metadata": {},
   "outputs": [],
   "source": [
    "form_factors={}\n",
    "with open('atomic_FF_coeffs_clean.csv', 'r') as f:\n",
    "    lines = f.readlines()\n",
    "    for line in lines:\n",
    "        vals = line.split(',')\n",
    "        element = vals[0]\n",
    "        coeffs = [float(val) for val in vals[1:]]\n",
    "        form_factors[element] = coeffs"
   ]
  },
  {
   "cell_type": "code",
   "execution_count": null,
   "metadata": {},
   "outputs": [],
   "source": [
    "def load_form_fact(Element):\n",
    "    coeffs = form_factors[Element]\n",
    "    \n",
    "    t1 = lambda q: coeffs[0]*np.exp(-1*coeffs[1]*(norm(q,axis=-1)/(4*np.pi))**2)\n",
    "    t2 = lambda q: coeffs[2]*np.exp(-1*coeffs[3]*(norm(q,axis=-1)/(4*np.pi))**2)\n",
    "    t3 = lambda q: coeffs[4]*np.exp(-1*coeffs[5]*(norm(q,axis=-1)/(4*np.pi))**2)\n",
    "    t4 = lambda q: coeffs[6]*np.exp(-1*coeffs[7]*(norm(q,axis=-1)/(4*np.pi))**2) + coeffs[8]\n",
    "    \n",
    "    ff = lambda q: t1(q)+t2(q)+t3(q)+t4(q)\n",
    "    \n",
    "    return ff\n",
    "\n",
    "def load_xyz(filepath):\n",
    "    with open(filepath,'r') as f:\n",
    "        lines = f.readlines()\n",
    "        numel_line = lines[0].strip()\n",
    "        numel = int(numel_line[0])\n",
    "        atoms = []\n",
    "        for line in lines[2:]:\n",
    "            line = line.strip()\n",
    "            splitline = line.split()\n",
    "            atom = [splitline[0]]\n",
    "            for i in range(1,4):\n",
    "                atom.append(float(splitline[i]))\n",
    "            atoms.append(atom)\n",
    "    return atoms\n",
    "\n",
    "Q = np.expand_dims(np.linspace(0,8,100),-1)\n",
    "\n",
    "ff_I = load_form_fact('I')\n",
    "ff_Br = load_form_fact('Br')\n",
    "ff_S = load_form_fact('S')\n",
    "ff_F = load_form_fact('F')\n",
    "\n",
    "plt.figure(figsize=(6,4))\n",
    "plt.plot(Q,ff_I(Q),label='I')\n",
    "plt.plot(Q,ff_Br(Q),label='Br')\n",
    "plt.plot(Q,ff_S(Q),label='S')\n",
    "plt.plot(Q,ff_F(Q),label='F')\n",
    "plt.legend(fontsize=15)\n",
    "plt.xlabel('Q',fontsize=15)\n",
    "plt.ylabel('f(Q)',fontsize=15)\n",
    "plt.show()\n",
    "print ff_I([0,0,0])"
   ]
  },
  {
   "cell_type": "markdown",
   "metadata": {},
   "source": [
    "## Define X-ray parameters"
   ]
  },
  {
   "cell_type": "code",
   "execution_count": null,
   "metadata": {},
   "outputs": [],
   "source": [
    "joule_per_ev = 1.6e-19\n",
    "pulse_energy = 1.2e-3\n",
    "photon_energy = 9.8e3\n",
    "dx = 75e-6\n",
    "pixel_area = dx*dx\n",
    "wavelength = 1240/photon_energy\n",
    "n_photons = pulse_energy/(joule_per_ev*photon_energy)\n",
    "\n",
    "numpoints_theta = 50\n",
    "theta = np.linspace(0.001,np.pi/3,numpoints_theta)\n",
    "\n",
    "def theta_to_q(theta):\n",
    "    return 4*np.pi*np.sin(theta/2.)/(wavelength*10)\n",
    "def q_to_theta(q):\n",
    "    return 2*np.arcsin((wavelength*10*q)/(4*np.pi))\n",
    "def generate_qgrid(theta):\n",
    "    thetamax = np.max(np.abs(theta))\n",
    "    qmax = theta_to_q(thetamax)\n",
    "    q = np.linspace(-qmax, qmax, 2*len(theta)+1)\n",
    "    qx, qy = np.meshgrid(q,q)\n",
    "    Q_abs = np.sqrt(qx**2+qy**2)\n",
    "    phigrid = np.arctan2(qy,qx)\n",
    "    thetagrid = q_to_theta(Q_abs)\n",
    "    QQr = Q_abs*np.cos(thetagrid/2)\n",
    "    QQx, QQy = QQr*np.cos(phigrid), QQr*np.sin(phigrid)\n",
    "    QQz = Q_abs*np.sin(thetagrid/2)\n",
    "    QQ = np.stack((QQx,QQy,QQz),axis=-1)\n",
    "    return QQ\n",
    "    \n",
    "\n",
    "q = theta_to_q(theta)\n",
    "print np.min(q), np.max(q)"
   ]
  },
  {
   "cell_type": "markdown",
   "metadata": {},
   "source": [
    "## Define aligned molecular form factor from .xyz file"
   ]
  },
  {
   "cell_type": "code",
   "execution_count": null,
   "metadata": {},
   "outputs": [],
   "source": [
    "def mol_form_factor(xyz, QQ):\n",
    "    output = np.zeros(QQ.shape[:-1],dtype=complex)\n",
    "    for i in range(len(xyz)):\n",
    "        for j in range(len(xyz)):\n",
    "            atom1 = xyz[i]\n",
    "            atom2 = xyz[j]\n",
    "            xyz1 = np.array([atom1[1],atom1[2],atom1[3]])\n",
    "            xyz2 = np.array([atom2[1],atom2[2],atom2[3]])\n",
    "\n",
    "            ff1 = load_form_fact(atom1[0])\n",
    "            ff2 = load_form_fact(atom2[0])\n",
    "            func = lambda q: ff1(QQ)*np.conj(ff2(QQ))*np.exp(1j*np.dot(QQ,xyz1-xyz2))\n",
    "            output += func(QQ)\n",
    "            \n",
    "    return output"
   ]
  },
  {
   "cell_type": "markdown",
   "metadata": {},
   "source": [
    "## Load aligned molecular form factor"
   ]
  },
  {
   "cell_type": "code",
   "execution_count": null,
   "metadata": {},
   "outputs": [],
   "source": [
    "molecule = 'SF6'\n",
    "xyz = load_xyz('/cds/home/i/igabalsk/xray/diffraction_simulation/%s.xyz' % molecule)\n",
    "print len(xyz)\n",
    "for item in xyz:\n",
    "    print item\n",
    "QQ = generate_qgrid(theta)\n",
    "QQx, QQy, QQz = QQ[:,:,0], QQ[:,:,1], QQ[:,:,2]"
   ]
  },
  {
   "cell_type": "code",
   "execution_count": null,
   "metadata": {},
   "outputs": [],
   "source": [
    "t0 = time()\n",
    "aligned_form_factor = mol_form_factor(xyz,QQ)\n",
    "t1 = time()\n",
    "numpoints_euler_angles = 20\n",
    "print 'Estimated time (min): ',(t1-t0)*numpoints_euler_angles**3/60"
   ]
  },
  {
   "cell_type": "code",
   "execution_count": null,
   "metadata": {},
   "outputs": [],
   "source": [
    "plt.figure(figsize=(7,6))\n",
    "plt.pcolormesh(QQx,QQy,np.abs(aligned_form_factor))\n",
    "plt.colorbar()\n",
    "plt.xlabel(r'$Q_x$',fontsize=15)\n",
    "plt.ylabel(r'$Q_y$',fontsize=15)\n",
    "plt.title('Aligned ensemble (%s)' % molecule, fontsize=20)\n",
    "# plt.savefig('aligned_scattering_%s.png' % molecule, bbox_inches='tight')\n",
    "plt.show()"
   ]
  },
  {
   "cell_type": "markdown",
   "metadata": {},
   "source": [
    "## Generate isotropic scattering by averaging over Euler angles"
   ]
  },
  {
   "cell_type": "code",
   "execution_count": null,
   "metadata": {},
   "outputs": [],
   "source": [
    "from scipy.spatial.transform import Rotation as R\n",
    "\n",
    "def isotropic_scattering(xyz,QQ,symmetries=None):\n",
    "    '''\n",
    "    Parameters\n",
    "    ----------\n",
    "    xyz : list of lists, each of which contains a string specifying atomic species and three coordinates\n",
    "    QQ : numpy array, (Nx,Ny,3) in shape specifying (Qx,Qy,Qz) values\n",
    "    symmetries : None or list of three angle values specifying discrete angular symmetries\n",
    "    '''\n",
    "    alpha = np.linspace(0,2*np.pi,numpoints_euler_angles)\n",
    "    beta = np.linspace(0,np.pi,numpoints_euler_angles)\n",
    "    gamma = np.linspace(0,2*np.pi,numpoints_euler_angles)\n",
    "    \n",
    "    if symmetries is not None:\n",
    "        alpha = np.linspace(0,symmetries[0],numpoints_euler_angles)\n",
    "        beta = np.linspace(0,symmetries[1],numpoints_euler_angles)\n",
    "        gamma = np.linspace(0,symmetries[2],numpoints_euler_angles)\n",
    "    \n",
    "    dalpha = np.mean(np.diff(alpha))\n",
    "    dbeta = np.mean(np.diff(beta))\n",
    "    dgamma = np.mean(np.diff(gamma))\n",
    "    \n",
    "    output = np.zeros(QQ.shape[:-1],dtype=complex)\n",
    "    for i,a in enumerate(alpha):\n",
    "        print i\n",
    "        t0 = time()\n",
    "        for b in beta:\n",
    "            for g in gamma:\n",
    "                xyz_prime = []\n",
    "                rot = R.from_euler('ZXZ',[a,b,g])\n",
    "                for atom in xyz:\n",
    "                    pos = np.array([atom[1],atom[2],atom[3]])\n",
    "                    pos_prime = rot.apply(pos)\n",
    "                    xyz_prime.append([atom[0],pos_prime[0],pos_prime[1],pos_prime[2]])\n",
    "                output += 1/(8*np.pi**2)*np.sin(b)*dalpha*dbeta*dgamma*mol_form_factor(xyz_prime,QQ)\n",
    "        t1 = time()\n",
    "    return output\n",
    "\n",
    "def isotropic_theory(xyz,QQ):\n",
    "    output = np.zeros(QQ.shape[:-1],dtype=float)\n",
    "    for atom in xyz:\n",
    "        output += np.abs(load_form_fact(atom[0])(QQ))**2\n",
    "    for i in range(len(xyz)):\n",
    "        for j in range(i+1,len(xyz)):\n",
    "            atom1 = xyz[i][0]\n",
    "            atom2 = xyz[j][0]\n",
    "            xyz1 = np.array(xyz[i][1:])\n",
    "            xyz2 = np.array(xyz[j][1:])\n",
    "            ff1 = load_form_fact(atom1)\n",
    "            ff2 = load_form_fact(atom2)\n",
    "            r_ij = norm(xyz1-xyz2)\n",
    "            output += 2*np.abs(ff1(QQ)*ff2(QQ))*np.sinc(1/np.pi*norm(QQ,axis=-1)*r_ij)\n",
    "    return output"
   ]
  },
  {
   "cell_type": "code",
   "execution_count": null,
   "metadata": {
    "scrolled": true
   },
   "outputs": [],
   "source": [
    "# isotropic_scattering_2d = isotropic_scattering(xyz,QQ,symmetries=[np.pi/2,np.pi/2,np.pi/2])\n",
    "isotropic_theory_2d = isotropic_theory(xyz,QQ)\n",
    "isotropic_scattering_2d = isotropic_theory(xyz,QQ)"
   ]
  },
  {
   "cell_type": "code",
   "execution_count": null,
   "metadata": {},
   "outputs": [],
   "source": [
    "QQ_norm = norm(QQ,axis=-1)\n",
    "isotropic_scattering_1d = []\n",
    "isotropic_theory_1d = []\n",
    "QQ_1d = np.linspace(np.min(QQ_norm),np.max(QQ_norm),51)\n",
    "dQQ_1d = np.mean(np.diff(QQ_1d))\n",
    "QQ_1d = QQ_1d[:-1]\n",
    "for qval in QQ_1d:\n",
    "    isotropic_scattering_1d.append(np.mean(isotropic_scattering_2d[(QQ_norm>qval)&(QQ_norm<qval+dQQ_1d)]))\n",
    "    isotropic_theory_1d.append(np.mean(isotropic_theory_2d[(QQ_norm>qval)&(QQ_norm<qval+dQQ_1d)]))"
   ]
  },
  {
   "cell_type": "code",
   "execution_count": null,
   "metadata": {},
   "outputs": [],
   "source": [
    "plt.figure(figsize=(7,6))\n",
    "plt.pcolormesh(QQx,QQy,np.abs(isotropic_scattering_2d),\n",
    "              norm=colors.LogNorm())\n",
    "plt.colorbar()\n",
    "plt.xlabel(r'$Q_x$',fontsize=15)\n",
    "plt.ylabel(r'$Q_y$',fontsize=15)\n",
    "plt.title('Isotropic ensemble (%s)' % molecule, fontsize=20)\n",
    "# plt.savefig('isotropic_scattering_2d_%s.png' % molecule, bbox_inches='tight')\n",
    "plt.show()\n",
    "\n",
    "plt.figure(figsize=(7,6))\n",
    "plt.pcolormesh(QQx,QQy,np.abs(isotropic_theory_2d),\n",
    "              norm=colors.LogNorm())\n",
    "plt.colorbar()\n",
    "plt.xlabel(r'$Q_x$',fontsize=15)\n",
    "plt.ylabel(r'$Q_y$',fontsize=15)\n",
    "plt.title('Isotropic ensemble (%s)' % molecule, fontsize=20)\n",
    "# plt.savefig('isotropic_scattering_2d_%s.png' % molecule, bbox_inches='tight')\n",
    "plt.show()\n",
    "\n",
    "plt.figure()\n",
    "plt.semilogy(QQ_1d, np.abs(isotropic_scattering_1d)/np.abs(isotropic_scattering_1d[0]))\n",
    "plt.semilogy(QQ_1d, np.abs(isotropic_theory_1d)/isotropic_theory_1d[0])\n",
    "plt.xlabel('Q',fontsize=15)\n",
    "plt.ylabel('f(Q) isotropic',fontsize=15)\n",
    "plt.title('Isotropic ensemble (%s)' % molecule, fontsize=20)\n",
    "# plt.savefig('isotropic_scattering_1d_%s.png' % molecule, bbox_inches='tight')\n",
    "plt.show()"
   ]
  },
  {
   "cell_type": "code",
   "execution_count": null,
   "metadata": {},
   "outputs": [],
   "source": [
    "with h5py.File('isotropic_scattering_%s.h5' % molecule,'w') as h:\n",
    "    h.create_dataset('QQ', data=QQ)\n",
    "    h.create_dataset('QQx', data=QQx)\n",
    "    h.create_dataset('QQy', data=QQy)\n",
    "    h.create_dataset('QQz', data=QQz)\n",
    "    h.create_dataset('isotropic_scattering_2d', data=isotropic_scattering_2d)\n",
    "    h.create_dataset('QQ_1d', data=QQ_1d)\n",
    "    h.create_dataset('isotropic_scattering_1d', data=isotropic_scattering_1d)"
   ]
  },
  {
   "cell_type": "markdown",
   "metadata": {},
   "source": [
    "### Check that files were properly written"
   ]
  },
  {
   "cell_type": "code",
   "execution_count": null,
   "metadata": {},
   "outputs": [],
   "source": [
    "with h5py.File('isotropic_scattering_%s.h5' % molecule,'r') as f:\n",
    "    for name, data in f.items():\n",
    "        print name, (f[name].value).shape"
   ]
  },
  {
   "cell_type": "markdown",
   "metadata": {},
   "source": [
    "## Manipulate molecule of interest"
   ]
  },
  {
   "cell_type": "code",
   "execution_count": null,
   "metadata": {},
   "outputs": [],
   "source": [
    "molecule = 'SF6'\n",
    "isotropic_scattering_dict = {}\n",
    "with h5py.File('isotropic_scattering_%s_old.h5' % molecule,'r') as f:\n",
    "    for name, data in f.items():\n",
    "        isotropic_scattering_dict[name]=f[name].value\n",
    "        print name\n",
    "        \n",
    "from scipy.interpolate import interp1d\n",
    "\n",
    "ff = interp1d(QQ_1d,np.abs(isotropic_scattering_dict['isotropic_scattering_1d']))\n",
    "def form_factor(q):\n",
    "    output = np.zeros_like(q)\n",
    "    output[q>np.max(QQ_1d)] = ff(np.max(QQ_1d))\n",
    "    output[q<np.min(QQ_1d)] = ff(np.min(QQ_1d))\n",
    "    output[(q<=np.max(QQ_1d))&(q>=np.min(QQ_1d))] = ff(q[(q<=np.max(QQ_1d))&(q>=np.min(QQ_1d))])\n",
    "    return output\n",
    "\n",
    "qs = np.linspace(np.min(QQ_1d)+0.0001,np.max(QQ_1d),1000)\n",
    "Q = np.expand_dims(qs,-1)\n",
    "f1 = isotropic_theory_1d\n",
    "f2 = np.abs(isotropic_scattering_1d)\n",
    "plt.figure()\n",
    "plt.semilogy(qs, f1/f1[0],label='Theory')\n",
    "plt.semilogy(QQ_1d, f2/f2[0],label='Ian\\'s Method')\n",
    "plt.xlabel('Q',fontsize=15)\n",
    "plt.ylabel('f(Q) isotropic',fontsize=15)\n",
    "plt.title('Isotropic ensemble (%s)' % molecule, fontsize=20)\n",
    "plt.legend(fontsize=15)\n",
    "# plt.savefig('isotropic_scattering_1d_%s.png' % molecule, bbox_inches='tight')\n",
    "plt.show()\n",
    "\n",
    "plt.figure(figsize=(7,6))\n",
    "plt.pcolormesh(QQx,QQy,form_factor(norm(QQ,axis=-1)),\n",
    "              norm=colors.LogNorm())\n",
    "plt.colorbar()\n",
    "plt.xlabel(r'$Q_x$',fontsize=15)\n",
    "plt.ylabel(r'$Q_y$',fontsize=15)\n",
    "plt.title('Isotropic ensemble (%s)' % molecule, fontsize=20)\n",
    "# plt.savefig('isotropic_scattering_2d_%s.png' % molecule, bbox_inches='tight')\n",
    "plt.show()"
   ]
  },
  {
   "cell_type": "code",
   "execution_count": null,
   "metadata": {},
   "outputs": [],
   "source": []
  }
 ],
 "metadata": {
  "kernelspec": {
   "display_name": "LCLS-I py2",
   "language": "python",
   "name": "ana1-current"
  },
  "language_info": {
   "codemirror_mode": {
    "name": "ipython",
    "version": 2
   },
   "file_extension": ".py",
   "mimetype": "text/x-python",
   "name": "python",
   "nbconvert_exporter": "python",
   "pygments_lexer": "ipython2",
   "version": "2.7.15"
  }
 },
 "nbformat": 4,
 "nbformat_minor": 2
}
